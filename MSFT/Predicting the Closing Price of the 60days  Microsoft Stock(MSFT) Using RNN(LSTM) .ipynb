{
 "cells": [
  {
   "cell_type": "code",
   "execution_count": 1,
   "metadata": {},
   "outputs": [
    {
     "name": "stderr",
     "output_type": "stream",
     "text": [
      "Using TensorFlow backend.\n",
      "C:\\Users\\19737\\anaconda3\\envs\\pythonCPU\\lib\\site-packages\\tensorflow\\python\\framework\\dtypes.py:516: FutureWarning: Passing (type, 1) or '1type' as a synonym of type is deprecated; in a future version of numpy, it will be understood as (type, (1,)) / '(1,)type'.\n",
      "  _np_qint8 = np.dtype([(\"qint8\", np.int8, 1)])\n",
      "C:\\Users\\19737\\anaconda3\\envs\\pythonCPU\\lib\\site-packages\\tensorflow\\python\\framework\\dtypes.py:517: FutureWarning: Passing (type, 1) or '1type' as a synonym of type is deprecated; in a future version of numpy, it will be understood as (type, (1,)) / '(1,)type'.\n",
      "  _np_quint8 = np.dtype([(\"quint8\", np.uint8, 1)])\n",
      "C:\\Users\\19737\\anaconda3\\envs\\pythonCPU\\lib\\site-packages\\tensorflow\\python\\framework\\dtypes.py:518: FutureWarning: Passing (type, 1) or '1type' as a synonym of type is deprecated; in a future version of numpy, it will be understood as (type, (1,)) / '(1,)type'.\n",
      "  _np_qint16 = np.dtype([(\"qint16\", np.int16, 1)])\n",
      "C:\\Users\\19737\\anaconda3\\envs\\pythonCPU\\lib\\site-packages\\tensorflow\\python\\framework\\dtypes.py:519: FutureWarning: Passing (type, 1) or '1type' as a synonym of type is deprecated; in a future version of numpy, it will be understood as (type, (1,)) / '(1,)type'.\n",
      "  _np_quint16 = np.dtype([(\"quint16\", np.uint16, 1)])\n",
      "C:\\Users\\19737\\anaconda3\\envs\\pythonCPU\\lib\\site-packages\\tensorflow\\python\\framework\\dtypes.py:520: FutureWarning: Passing (type, 1) or '1type' as a synonym of type is deprecated; in a future version of numpy, it will be understood as (type, (1,)) / '(1,)type'.\n",
      "  _np_qint32 = np.dtype([(\"qint32\", np.int32, 1)])\n",
      "C:\\Users\\19737\\anaconda3\\envs\\pythonCPU\\lib\\site-packages\\tensorflow\\python\\framework\\dtypes.py:525: FutureWarning: Passing (type, 1) or '1type' as a synonym of type is deprecated; in a future version of numpy, it will be understood as (type, (1,)) / '(1,)type'.\n",
      "  np_resource = np.dtype([(\"resource\", np.ubyte, 1)])\n",
      "C:\\Users\\19737\\anaconda3\\envs\\pythonCPU\\lib\\site-packages\\tensorboard\\compat\\tensorflow_stub\\dtypes.py:541: FutureWarning: Passing (type, 1) or '1type' as a synonym of type is deprecated; in a future version of numpy, it will be understood as (type, (1,)) / '(1,)type'.\n",
      "  _np_qint8 = np.dtype([(\"qint8\", np.int8, 1)])\n",
      "C:\\Users\\19737\\anaconda3\\envs\\pythonCPU\\lib\\site-packages\\tensorboard\\compat\\tensorflow_stub\\dtypes.py:542: FutureWarning: Passing (type, 1) or '1type' as a synonym of type is deprecated; in a future version of numpy, it will be understood as (type, (1,)) / '(1,)type'.\n",
      "  _np_quint8 = np.dtype([(\"quint8\", np.uint8, 1)])\n",
      "C:\\Users\\19737\\anaconda3\\envs\\pythonCPU\\lib\\site-packages\\tensorboard\\compat\\tensorflow_stub\\dtypes.py:543: FutureWarning: Passing (type, 1) or '1type' as a synonym of type is deprecated; in a future version of numpy, it will be understood as (type, (1,)) / '(1,)type'.\n",
      "  _np_qint16 = np.dtype([(\"qint16\", np.int16, 1)])\n",
      "C:\\Users\\19737\\anaconda3\\envs\\pythonCPU\\lib\\site-packages\\tensorboard\\compat\\tensorflow_stub\\dtypes.py:544: FutureWarning: Passing (type, 1) or '1type' as a synonym of type is deprecated; in a future version of numpy, it will be understood as (type, (1,)) / '(1,)type'.\n",
      "  _np_quint16 = np.dtype([(\"quint16\", np.uint16, 1)])\n",
      "C:\\Users\\19737\\anaconda3\\envs\\pythonCPU\\lib\\site-packages\\tensorboard\\compat\\tensorflow_stub\\dtypes.py:545: FutureWarning: Passing (type, 1) or '1type' as a synonym of type is deprecated; in a future version of numpy, it will be understood as (type, (1,)) / '(1,)type'.\n",
      "  _np_qint32 = np.dtype([(\"qint32\", np.int32, 1)])\n",
      "C:\\Users\\19737\\anaconda3\\envs\\pythonCPU\\lib\\site-packages\\tensorboard\\compat\\tensorflow_stub\\dtypes.py:550: FutureWarning: Passing (type, 1) or '1type' as a synonym of type is deprecated; in a future version of numpy, it will be understood as (type, (1,)) / '(1,)type'.\n",
      "  np_resource = np.dtype([(\"resource\", np.ubyte, 1)])\n"
     ]
    }
   ],
   "source": [
    "#### This Program uses Artificial recurrent neural network called Long short Term Memory(LsTM)\n",
    "# To Predict the closing price of Microsft stock(MSFT) Using the Past 60 days of stock Price.\n",
    "\n",
    "import math\n",
    "from keras.models import Sequential\n",
    "import numpy as np\n",
    "#import pandas_datereader as web\n",
    "import pandas as pd\n",
    "from sklearn.preprocessing import MinMaxScaler\n",
    "from keras.layers import Dense, LSTM\n",
    "import matplotlib.pyplot as plt\n",
    "plt.style.use('fivethirtyeight')"
   ]
  },
  {
   "cell_type": "code",
   "execution_count": 2,
   "metadata": {},
   "outputs": [
    {
     "data": {
      "text/html": [
       "<div>\n",
       "<style scoped>\n",
       "    .dataframe tbody tr th:only-of-type {\n",
       "        vertical-align: middle;\n",
       "    }\n",
       "\n",
       "    .dataframe tbody tr th {\n",
       "        vertical-align: top;\n",
       "    }\n",
       "\n",
       "    .dataframe thead th {\n",
       "        text-align: right;\n",
       "    }\n",
       "</style>\n",
       "<table border=\"1\" class=\"dataframe\">\n",
       "  <thead>\n",
       "    <tr style=\"text-align: right;\">\n",
       "      <th></th>\n",
       "      <th>Open</th>\n",
       "      <th>High</th>\n",
       "      <th>Low</th>\n",
       "      <th>Close</th>\n",
       "      <th>Adj Close</th>\n",
       "      <th>Volume</th>\n",
       "    </tr>\n",
       "    <tr>\n",
       "      <th>Date</th>\n",
       "      <th></th>\n",
       "      <th></th>\n",
       "      <th></th>\n",
       "      <th></th>\n",
       "      <th></th>\n",
       "      <th></th>\n",
       "    </tr>\n",
       "  </thead>\n",
       "  <tbody>\n",
       "    <tr>\n",
       "      <th>2010-01-04</th>\n",
       "      <td>30.620001</td>\n",
       "      <td>31.100000</td>\n",
       "      <td>30.590000</td>\n",
       "      <td>30.950001</td>\n",
       "      <td>24.226894</td>\n",
       "      <td>38409100</td>\n",
       "    </tr>\n",
       "    <tr>\n",
       "      <th>2010-01-05</th>\n",
       "      <td>30.850000</td>\n",
       "      <td>31.100000</td>\n",
       "      <td>30.639999</td>\n",
       "      <td>30.959999</td>\n",
       "      <td>24.234720</td>\n",
       "      <td>49749600</td>\n",
       "    </tr>\n",
       "    <tr>\n",
       "      <th>2010-01-06</th>\n",
       "      <td>30.879999</td>\n",
       "      <td>31.080000</td>\n",
       "      <td>30.520000</td>\n",
       "      <td>30.770000</td>\n",
       "      <td>24.085989</td>\n",
       "      <td>58182400</td>\n",
       "    </tr>\n",
       "    <tr>\n",
       "      <th>2010-01-07</th>\n",
       "      <td>30.629999</td>\n",
       "      <td>30.700001</td>\n",
       "      <td>30.190001</td>\n",
       "      <td>30.450001</td>\n",
       "      <td>23.835503</td>\n",
       "      <td>50559700</td>\n",
       "    </tr>\n",
       "    <tr>\n",
       "      <th>2010-01-08</th>\n",
       "      <td>30.280001</td>\n",
       "      <td>30.879999</td>\n",
       "      <td>30.240000</td>\n",
       "      <td>30.660000</td>\n",
       "      <td>23.999893</td>\n",
       "      <td>51197400</td>\n",
       "    </tr>\n",
       "    <tr>\n",
       "      <th>...</th>\n",
       "      <td>...</td>\n",
       "      <td>...</td>\n",
       "      <td>...</td>\n",
       "      <td>...</td>\n",
       "      <td>...</td>\n",
       "      <td>...</td>\n",
       "    </tr>\n",
       "    <tr>\n",
       "      <th>2020-07-20</th>\n",
       "      <td>205.000000</td>\n",
       "      <td>212.300003</td>\n",
       "      <td>203.009995</td>\n",
       "      <td>211.600006</td>\n",
       "      <td>211.600006</td>\n",
       "      <td>36884800</td>\n",
       "    </tr>\n",
       "    <tr>\n",
       "      <th>2020-07-21</th>\n",
       "      <td>213.660004</td>\n",
       "      <td>213.940002</td>\n",
       "      <td>208.029999</td>\n",
       "      <td>208.750000</td>\n",
       "      <td>208.750000</td>\n",
       "      <td>38105800</td>\n",
       "    </tr>\n",
       "    <tr>\n",
       "      <th>2020-07-22</th>\n",
       "      <td>209.199997</td>\n",
       "      <td>212.300003</td>\n",
       "      <td>208.389999</td>\n",
       "      <td>211.750000</td>\n",
       "      <td>211.750000</td>\n",
       "      <td>49605700</td>\n",
       "    </tr>\n",
       "    <tr>\n",
       "      <th>2020-07-23</th>\n",
       "      <td>207.190002</td>\n",
       "      <td>210.919998</td>\n",
       "      <td>202.149994</td>\n",
       "      <td>202.539993</td>\n",
       "      <td>202.539993</td>\n",
       "      <td>67457000</td>\n",
       "    </tr>\n",
       "    <tr>\n",
       "      <th>2020-07-24</th>\n",
       "      <td>200.419998</td>\n",
       "      <td>202.860001</td>\n",
       "      <td>197.509995</td>\n",
       "      <td>201.300003</td>\n",
       "      <td>201.300003</td>\n",
       "      <td>39827000</td>\n",
       "    </tr>\n",
       "  </tbody>\n",
       "</table>\n",
       "<p>2658 rows × 6 columns</p>\n",
       "</div>"
      ],
      "text/plain": [
       "                  Open        High         Low       Close   Adj Close  \\\n",
       "Date                                                                     \n",
       "2010-01-04   30.620001   31.100000   30.590000   30.950001   24.226894   \n",
       "2010-01-05   30.850000   31.100000   30.639999   30.959999   24.234720   \n",
       "2010-01-06   30.879999   31.080000   30.520000   30.770000   24.085989   \n",
       "2010-01-07   30.629999   30.700001   30.190001   30.450001   23.835503   \n",
       "2010-01-08   30.280001   30.879999   30.240000   30.660000   23.999893   \n",
       "...                ...         ...         ...         ...         ...   \n",
       "2020-07-20  205.000000  212.300003  203.009995  211.600006  211.600006   \n",
       "2020-07-21  213.660004  213.940002  208.029999  208.750000  208.750000   \n",
       "2020-07-22  209.199997  212.300003  208.389999  211.750000  211.750000   \n",
       "2020-07-23  207.190002  210.919998  202.149994  202.539993  202.539993   \n",
       "2020-07-24  200.419998  202.860001  197.509995  201.300003  201.300003   \n",
       "\n",
       "              Volume  \n",
       "Date                  \n",
       "2010-01-04  38409100  \n",
       "2010-01-05  49749600  \n",
       "2010-01-06  58182400  \n",
       "2010-01-07  50559700  \n",
       "2010-01-08  51197400  \n",
       "...              ...  \n",
       "2020-07-20  36884800  \n",
       "2020-07-21  38105800  \n",
       "2020-07-22  49605700  \n",
       "2020-07-23  67457000  \n",
       "2020-07-24  39827000  \n",
       "\n",
       "[2658 rows x 6 columns]"
      ]
     },
     "execution_count": 2,
     "metadata": {},
     "output_type": "execute_result"
    }
   ],
   "source": [
    "df = pd.read_csv(\"MSFT.csv\", parse_dates=[\"Date\"], index_col=\"Date\")\n",
    "df"
   ]
  },
  {
   "cell_type": "code",
   "execution_count": 3,
   "metadata": {},
   "outputs": [
    {
     "data": {
      "text/plain": [
       "(2658, 6)"
      ]
     },
     "execution_count": 3,
     "metadata": {},
     "output_type": "execute_result"
    }
   ],
   "source": [
    "df.shape"
   ]
  },
  {
   "cell_type": "code",
   "execution_count": 53,
   "metadata": {},
   "outputs": [
    {
     "data": {
      "text/plain": [
       "2127"
      ]
     },
     "execution_count": 53,
     "metadata": {},
     "output_type": "execute_result"
    }
   ],
   "source": [
    "## Creat a new dataFrame with the 'Close column'\n",
    "data = df.filter(['Close'])\n",
    "dataset = data.values\n",
    "## Get the number of rows to train the model on\n",
    "training_data_len = math.ceil(len(dataset) * .8)\n",
    "training_data_len"
   ]
  },
  {
   "cell_type": "code",
   "execution_count": 54,
   "metadata": {},
   "outputs": [
    {
     "data": {
      "text/plain": [
       "array([[0.04150332],\n",
       "       [0.04155558],\n",
       "       [0.04056244],\n",
       "       ...,\n",
       "       [0.98656627],\n",
       "       [0.93842448],\n",
       "       [0.9319429 ]])"
      ]
     },
     "execution_count": 54,
     "metadata": {},
     "output_type": "execute_result"
    }
   ],
   "source": [
    "## Scaled the data\n",
    "\n",
    "scaler = MinMaxScaler(feature_range=(0,1))\n",
    "scaled_data = scaler.fit_transform(dataset)\n",
    "scaled_data"
   ]
  },
  {
   "cell_type": "code",
   "execution_count": 24,
   "metadata": {},
   "outputs": [
    {
     "name": "stdout",
     "output_type": "stream",
     "text": [
      "[array([0.04150332, 0.04155558, 0.04056244, 0.03888976, 0.03998745,\n",
      "       0.03794888, 0.03690345, 0.03836705, 0.04155558, 0.04103288,\n",
      "       0.04228739, 0.03962156, 0.03658983, 0.03110135, 0.03298312,\n",
      "       0.033924  , 0.03481261, 0.03214678, 0.0270242 , 0.02822644,\n",
      "       0.02848779, 0.0293764 , 0.02524698, 0.02618786, 0.02461972,\n",
      "       0.02613559, 0.02603105, 0.02671058, 0.02571742, 0.02791281,\n",
      "       0.02916732, 0.03115362, 0.0301082 , 0.02989912, 0.02780827,\n",
      "       0.0293764 , 0.02921959, 0.02958549, 0.03141498, 0.02848779,\n",
      "       0.02848779, 0.0293764 , 0.02916732, 0.0293764 , 0.03026501,\n",
      "       0.03115362, 0.03225132, 0.03272176, 0.03282631, 0.03324448,\n",
      "       0.03460352, 0.03449898, 0.03439444, 0.03444671, 0.0359103 ,\n",
      "       0.03470806, 0.03658983, 0.03476034, 0.03439444, 0.03533532])]\n",
      "[0.03282630688524307]\n",
      "\n",
      "[array([0.04150332, 0.04155558, 0.04056244, 0.03888976, 0.03998745,\n",
      "       0.03794888, 0.03690345, 0.03836705, 0.04155558, 0.04103288,\n",
      "       0.04228739, 0.03962156, 0.03658983, 0.03110135, 0.03298312,\n",
      "       0.033924  , 0.03481261, 0.03214678, 0.0270242 , 0.02822644,\n",
      "       0.02848779, 0.0293764 , 0.02524698, 0.02618786, 0.02461972,\n",
      "       0.02613559, 0.02603105, 0.02671058, 0.02571742, 0.02791281,\n",
      "       0.02916732, 0.03115362, 0.0301082 , 0.02989912, 0.02780827,\n",
      "       0.0293764 , 0.02921959, 0.02958549, 0.03141498, 0.02848779,\n",
      "       0.02848779, 0.0293764 , 0.02916732, 0.0293764 , 0.03026501,\n",
      "       0.03115362, 0.03225132, 0.03272176, 0.03282631, 0.03324448,\n",
      "       0.03460352, 0.03449898, 0.03439444, 0.03444671, 0.0359103 ,\n",
      "       0.03470806, 0.03658983, 0.03476034, 0.03439444, 0.03533532]), array([0.04155558, 0.04056244, 0.03888976, 0.03998745, 0.03794888,\n",
      "       0.03690345, 0.03836705, 0.04155558, 0.04103288, 0.04228739,\n",
      "       0.03962156, 0.03658983, 0.03110135, 0.03298312, 0.033924  ,\n",
      "       0.03481261, 0.03214678, 0.0270242 , 0.02822644, 0.02848779,\n",
      "       0.0293764 , 0.02524698, 0.02618786, 0.02461972, 0.02613559,\n",
      "       0.02603105, 0.02671058, 0.02571742, 0.02791281, 0.02916732,\n",
      "       0.03115362, 0.0301082 , 0.02989912, 0.02780827, 0.0293764 ,\n",
      "       0.02921959, 0.02958549, 0.03141498, 0.02848779, 0.02848779,\n",
      "       0.0293764 , 0.02916732, 0.0293764 , 0.03026501, 0.03115362,\n",
      "       0.03225132, 0.03272176, 0.03282631, 0.03324448, 0.03460352,\n",
      "       0.03449898, 0.03439444, 0.03444671, 0.0359103 , 0.03470806,\n",
      "       0.03658983, 0.03476034, 0.03439444, 0.03533532, 0.03282631])]\n",
      "[0.03282630688524307, 0.03214677630532939]\n",
      "\n"
     ]
    }
   ],
   "source": [
    "## Creat the Training Data Set\n",
    "## Creat the scaled training data set\n",
    "\n",
    "train_data = scaled_data[0:training_data_len, :]\n",
    "## Split the data into x_train and y_train dataset\n",
    "\n",
    "x_train=[]\n",
    "\n",
    "y_train = []\n",
    "\n",
    "for i in range(60, len(train_data)):\n",
    "    x_train.append(train_data[i -60:i, 0])\n",
    "    y_train.append(train_data[i, 0])\n",
    "    \n",
    "    if i<=61:\n",
    "        print(x_train)\n",
    "        print(y_train)\n",
    "        print()\n"
   ]
  },
  {
   "cell_type": "code",
   "execution_count": 55,
   "metadata": {},
   "outputs": [],
   "source": [
    "## convert the x_train and y_train to numpy arrays\n",
    "x_train, y_train = np.array(x_train), np.array(y_train)"
   ]
  },
  {
   "cell_type": "code",
   "execution_count": 56,
   "metadata": {},
   "outputs": [
    {
     "data": {
      "text/plain": [
       "(2598, 60, 1)"
      ]
     },
     "execution_count": 56,
     "metadata": {},
     "output_type": "execute_result"
    }
   ],
   "source": [
    "## Rehsape the data because LSTM requires 3D data\n",
    "# x_train = np.reshape(x_train, [2658, 60, 1])\n",
    "\n",
    "x_train = np.reshape(x_train, (x_train.shape[0], x_train.shape[1], 1))\n",
    "x_train.shape"
   ]
  },
  {
   "cell_type": "code",
   "execution_count": 57,
   "metadata": {},
   "outputs": [],
   "source": [
    "## Build the LSTM mode\n",
    "model = Sequential()\n",
    "model.add(LSTM(50, return_sequences=True, input_shape = (x_train.shape[1], 1)))\n",
    "model.add(LSTM(50, return_sequences = False))\n",
    "model.add(Dense(25))\n",
    "model.add(Dense(1))"
   ]
  },
  {
   "cell_type": "code",
   "execution_count": 58,
   "metadata": {},
   "outputs": [],
   "source": [
    "## compile the model\n",
    "\n",
    "model.compile(optimizer='adam', loss='mean_squared_error')\n"
   ]
  },
  {
   "cell_type": "code",
   "execution_count": 68,
   "metadata": {},
   "outputs": [
    {
     "name": "stdout",
     "output_type": "stream",
     "text": [
      "Epoch 1/5\n",
      "2598/2598 [==============================] - 135s 52ms/step - loss: 5.0169e-040s - loss:\n",
      "Epoch 2/5\n",
      "2598/2598 [==============================] - 143s 55ms/step - loss: 4.3706e-04\n",
      "Epoch 3/5\n",
      "2598/2598 [==============================] - 148s 57ms/step - loss: 2.5354e-04\n",
      "Epoch 4/5\n",
      "2598/2598 [==============================] - 154s 59ms/step - loss: 3.0219e-04\n",
      "Epoch 5/5\n",
      "2598/2598 [==============================] - 170s 66ms/step - loss: 2.0466e-04\n"
     ]
    },
    {
     "data": {
      "text/plain": [
       "<keras.callbacks.callbacks.History at 0x1d5293726a0>"
      ]
     },
     "execution_count": 68,
     "metadata": {},
     "output_type": "execute_result"
    }
   ],
   "source": [
    "## Train the model\n",
    "\n",
    "model.fit(x_train, y_train, batch_size =1, epochs=5)"
   ]
  },
  {
   "cell_type": "code",
   "execution_count": 69,
   "metadata": {},
   "outputs": [],
   "source": [
    "## Create the testing data set\n",
    "## Creat a new array containing scaled values from index value 2598 to 2658 (remember 2658 is the end of our dataset[,:])\n",
    "test_data = scaled_data[training_data_len - 60:, :]\n",
    "# creat the dataset x_test and y_test\n",
    "x_test = []\n",
    "y_test = dataset[training_data_len:, :]\n",
    "\n",
    "for i in range(60, len(test_data)):\n",
    "    x_test.append(test_data[i-60:i, 0])\n",
    "    \n",
    "\n"
   ]
  },
  {
   "cell_type": "code",
   "execution_count": 70,
   "metadata": {},
   "outputs": [
    {
     "data": {
      "text/plain": [
       "(531, 60)"
      ]
     },
     "execution_count": 70,
     "metadata": {},
     "output_type": "execute_result"
    }
   ],
   "source": [
    "## convert my data to numpy\n",
    "x_test = np.array(x_test)\n",
    "x_test.shape"
   ]
  },
  {
   "cell_type": "code",
   "execution_count": 71,
   "metadata": {},
   "outputs": [],
   "source": [
    "## Reshape the Data\n",
    "\n",
    "x_test = np.reshape(x_test,(x_test.shape[0], x_test.shape[1], 1))"
   ]
  },
  {
   "cell_type": "code",
   "execution_count": 72,
   "metadata": {},
   "outputs": [],
   "source": [
    "## Get the model predicted price values for the x_test data set\n",
    "\n",
    "predictions = model.predict(x_test)\n",
    "predictions = scaler.inverse_transform(predictions)"
   ]
  },
  {
   "cell_type": "code",
   "execution_count": 73,
   "metadata": {},
   "outputs": [
    {
     "data": {
      "text/plain": [
       "4.974202751204611"
      ]
     },
     "execution_count": 73,
     "metadata": {},
     "output_type": "execute_result"
    }
   ],
   "source": [
    "## i want to evaluate this model by getting the mean squared error\n",
    "\n",
    "rmse = np.sqrt(np.mean(predictions - y_test)**2)\n",
    "rmse"
   ]
  },
  {
   "cell_type": "code",
   "execution_count": 80,
   "metadata": {
    "scrolled": false
   },
   "outputs": [
    {
     "name": "stderr",
     "output_type": "stream",
     "text": [
      "C:\\Users\\19737\\anaconda3\\envs\\pythonCPU\\lib\\site-packages\\ipykernel_launcher.py:5: SettingWithCopyWarning: \n",
      "A value is trying to be set on a copy of a slice from a DataFrame.\n",
      "Try using .loc[row_indexer,col_indexer] = value instead\n",
      "\n",
      "See the caveats in the documentation: https://pandas.pydata.org/pandas-docs/stable/user_guide/indexing.html#returning-a-view-versus-a-copy\n",
      "  \"\"\"\n",
      "C:\\Users\\19737\\anaconda3\\envs\\pythonCPU\\lib\\site-packages\\ipykernel_launcher.py:15: MatplotlibDeprecationWarning: Unrecognized location 'Upper Right'. Falling back on 'best'; valid locations are\n",
      "\tbest\n",
      "\tupper right\n",
      "\tupper left\n",
      "\tlower left\n",
      "\tlower right\n",
      "\tright\n",
      "\tcenter left\n",
      "\tcenter right\n",
      "\tlower center\n",
      "\tupper center\n",
      "\tcenter\n",
      "This will raise an exception in 3.3.\n",
      "  from ipykernel import kernelapp as app\n"
     ]
    },
    {
     "data": {
      "text/plain": [
       "<matplotlib.legend.Legend at 0x1d52c5445c0>"
      ]
     },
     "execution_count": 80,
     "metadata": {},
     "output_type": "execute_result"
    },
    {
     "data": {
      "image/png": "[encoded data removed]",
      "text/plain": [
       "<Figure size 1152x576 with 1 Axes>"
      ]
     },
     "metadata": {},
     "output_type": "display_data"
    }
   ],
   "source": [
    "## plot the data\n",
    "\n",
    "train = data[:training_data_len]\n",
    "valid = data[training_data_len:]\n",
    "valid['Predictions'] = predictions\n",
    "\n",
    "###  Visualize the data\n",
    "\n",
    "plt.figure(figsize=(16, 8))\n",
    "plt.title('Model', fontsize = 20)\n",
    "plt.xlabel('Date', fontsize=18)\n",
    "plt.ylabel('Close Price USD($)', fontsize=18)\n",
    "plt.plot(train['Close'])\n",
    "plt.plot(valid[['Close', 'Predictions']])\n",
    "plt.legend(['Train','Valid', 'Predictions'], loc = 'Upper Right')"
   ]
  },
  {
   "cell_type": "code",
   "execution_count": 81,
   "metadata": {},
   "outputs": [
    {
     "data": {
      "text/html": [
       "<div>\n",
       "<style scoped>\n",
       "    .dataframe tbody tr th:only-of-type {\n",
       "        vertical-align: middle;\n",
       "    }\n",
       "\n",
       "    .dataframe tbody tr th {\n",
       "        vertical-align: top;\n",
       "    }\n",
       "\n",
       "    .dataframe thead th {\n",
       "        text-align: right;\n",
       "    }\n",
       "</style>\n",
       "<table border=\"1\" class=\"dataframe\">\n",
       "  <thead>\n",
       "    <tr style=\"text-align: right;\">\n",
       "      <th></th>\n",
       "      <th>Close</th>\n",
       "      <th>Predictions</th>\n",
       "    </tr>\n",
       "    <tr>\n",
       "      <th>Date</th>\n",
       "      <th></th>\n",
       "      <th></th>\n",
       "    </tr>\n",
       "  </thead>\n",
       "  <tbody>\n",
       "    <tr>\n",
       "      <th>2018-06-15</th>\n",
       "      <td>100.129997</td>\n",
       "      <td>97.597359</td>\n",
       "    </tr>\n",
       "    <tr>\n",
       "      <th>2018-06-18</th>\n",
       "      <td>100.860001</td>\n",
       "      <td>97.009354</td>\n",
       "    </tr>\n",
       "    <tr>\n",
       "      <th>2018-06-19</th>\n",
       "      <td>100.860001</td>\n",
       "      <td>97.085869</td>\n",
       "    </tr>\n",
       "    <tr>\n",
       "      <th>2018-06-20</th>\n",
       "      <td>101.870003</td>\n",
       "      <td>97.207962</td>\n",
       "    </tr>\n",
       "    <tr>\n",
       "      <th>2018-06-21</th>\n",
       "      <td>101.139999</td>\n",
       "      <td>97.841377</td>\n",
       "    </tr>\n",
       "    <tr>\n",
       "      <th>...</th>\n",
       "      <td>...</td>\n",
       "      <td>...</td>\n",
       "    </tr>\n",
       "    <tr>\n",
       "      <th>2020-07-20</th>\n",
       "      <td>211.600006</td>\n",
       "      <td>196.978195</td>\n",
       "    </tr>\n",
       "    <tr>\n",
       "      <th>2020-07-21</th>\n",
       "      <td>208.750000</td>\n",
       "      <td>201.872330</td>\n",
       "    </tr>\n",
       "    <tr>\n",
       "      <th>2020-07-22</th>\n",
       "      <td>211.750000</td>\n",
       "      <td>202.583115</td>\n",
       "    </tr>\n",
       "    <tr>\n",
       "      <th>2020-07-23</th>\n",
       "      <td>202.539993</td>\n",
       "      <td>204.135513</td>\n",
       "    </tr>\n",
       "    <tr>\n",
       "      <th>2020-07-24</th>\n",
       "      <td>201.300003</td>\n",
       "      <td>198.999298</td>\n",
       "    </tr>\n",
       "  </tbody>\n",
       "</table>\n",
       "<p>531 rows × 2 columns</p>\n",
       "</div>"
      ],
      "text/plain": [
       "                 Close  Predictions\n",
       "Date                               \n",
       "2018-06-15  100.129997    97.597359\n",
       "2018-06-18  100.860001    97.009354\n",
       "2018-06-19  100.860001    97.085869\n",
       "2018-06-20  101.870003    97.207962\n",
       "2018-06-21  101.139999    97.841377\n",
       "...                ...          ...\n",
       "2020-07-20  211.600006   196.978195\n",
       "2020-07-21  208.750000   201.872330\n",
       "2020-07-22  211.750000   202.583115\n",
       "2020-07-23  202.539993   204.135513\n",
       "2020-07-24  201.300003   198.999298\n",
       "\n",
       "[531 rows x 2 columns]"
      ]
     },
     "execution_count": 81,
     "metadata": {},
     "output_type": "execute_result"
    }
   ],
   "source": [
    "## show the valid predicted prices\n",
    "valid"
   ]
  },
  {
   "cell_type": "code",
   "execution_count": 89,
   "metadata": {
    "scrolled": false
   },
   "outputs": [
    {
     "name": "stdout",
     "output_type": "stream",
     "text": [
      "[[195.65677]]\n"
     ]
    }
   ],
   "source": [
    "## Get the Quote\n",
    "\n",
    "df = pd.read_csv(\"MSFT.csv\", parse_dates=[\"Date\"], index_col=\"Date\")\n",
    "\n",
    "## Creat new frame\n",
    "\n",
    "df1 = df.filter(['Close'])\n",
    "## get the last 60 days closing price value and convert the dataFrame\n",
    "last_60_days = df1[-60:].values\n",
    "\n",
    "## scale the data to be values between 0 and 1\n",
    "last_60_days_scaled = scaler.transform(last_60_days)\n",
    "\n",
    "## creat an empty lis\n",
    "\n",
    "x_test = []\n",
    "## Append the past 60 days\n",
    "x_test.append(last_60_days_scaled)\n",
    "# convert the x_test data to set of numpy array\n",
    "x_test = np.array(x_test)\n",
    "## Reshape the data\n",
    "x_test = np.reshape(x_test, (x_test.shape[0], x_test.shape[1], 1))\n",
    "# Get the predictions prices\n",
    "pred_price = model.predict(x_test)\n",
    "## Undo the scaling\n",
    "pred_price = scaler.inverse_transform(pred_price)\n",
    "print(pred_price)\n"
   ]
  },
  {
   "cell_type": "code",
   "execution_count": 103,
   "metadata": {},
   "outputs": [
    {
     "data": {
      "text/html": [
       "<div>\n",
       "<style scoped>\n",
       "    .dataframe tbody tr th:only-of-type {\n",
       "        vertical-align: middle;\n",
       "    }\n",
       "\n",
       "    .dataframe tbody tr th {\n",
       "        vertical-align: top;\n",
       "    }\n",
       "\n",
       "    .dataframe thead th {\n",
       "        text-align: right;\n",
       "    }\n",
       "</style>\n",
       "<table border=\"1\" class=\"dataframe\">\n",
       "  <thead>\n",
       "    <tr style=\"text-align: right;\">\n",
       "      <th></th>\n",
       "      <th>Open</th>\n",
       "      <th>High</th>\n",
       "      <th>Low</th>\n",
       "      <th>Close</th>\n",
       "      <th>Adj Close</th>\n",
       "      <th>Volume</th>\n",
       "    </tr>\n",
       "    <tr>\n",
       "      <th>Date</th>\n",
       "      <th></th>\n",
       "      <th></th>\n",
       "      <th></th>\n",
       "      <th></th>\n",
       "      <th></th>\n",
       "      <th></th>\n",
       "    </tr>\n",
       "  </thead>\n",
       "  <tbody>\n",
       "    <tr>\n",
       "      <th>2010-01-04</th>\n",
       "      <td>30.620001</td>\n",
       "      <td>31.100000</td>\n",
       "      <td>30.590000</td>\n",
       "      <td>30.950001</td>\n",
       "      <td>24.226894</td>\n",
       "      <td>38409100</td>\n",
       "    </tr>\n",
       "    <tr>\n",
       "      <th>2010-01-05</th>\n",
       "      <td>30.850000</td>\n",
       "      <td>31.100000</td>\n",
       "      <td>30.639999</td>\n",
       "      <td>30.959999</td>\n",
       "      <td>24.234720</td>\n",
       "      <td>49749600</td>\n",
       "    </tr>\n",
       "    <tr>\n",
       "      <th>2010-01-06</th>\n",
       "      <td>30.879999</td>\n",
       "      <td>31.080000</td>\n",
       "      <td>30.520000</td>\n",
       "      <td>30.770000</td>\n",
       "      <td>24.085989</td>\n",
       "      <td>58182400</td>\n",
       "    </tr>\n",
       "    <tr>\n",
       "      <th>2010-01-07</th>\n",
       "      <td>30.629999</td>\n",
       "      <td>30.700001</td>\n",
       "      <td>30.190001</td>\n",
       "      <td>30.450001</td>\n",
       "      <td>23.835503</td>\n",
       "      <td>50559700</td>\n",
       "    </tr>\n",
       "    <tr>\n",
       "      <th>2010-01-08</th>\n",
       "      <td>30.280001</td>\n",
       "      <td>30.879999</td>\n",
       "      <td>30.240000</td>\n",
       "      <td>30.660000</td>\n",
       "      <td>23.999893</td>\n",
       "      <td>51197400</td>\n",
       "    </tr>\n",
       "    <tr>\n",
       "      <th>...</th>\n",
       "      <td>...</td>\n",
       "      <td>...</td>\n",
       "      <td>...</td>\n",
       "      <td>...</td>\n",
       "      <td>...</td>\n",
       "      <td>...</td>\n",
       "    </tr>\n",
       "    <tr>\n",
       "      <th>2020-07-20</th>\n",
       "      <td>205.000000</td>\n",
       "      <td>212.300003</td>\n",
       "      <td>203.009995</td>\n",
       "      <td>211.600006</td>\n",
       "      <td>211.600006</td>\n",
       "      <td>36884800</td>\n",
       "    </tr>\n",
       "    <tr>\n",
       "      <th>2020-07-21</th>\n",
       "      <td>213.660004</td>\n",
       "      <td>213.940002</td>\n",
       "      <td>208.029999</td>\n",
       "      <td>208.750000</td>\n",
       "      <td>208.750000</td>\n",
       "      <td>38105800</td>\n",
       "    </tr>\n",
       "    <tr>\n",
       "      <th>2020-07-22</th>\n",
       "      <td>209.199997</td>\n",
       "      <td>212.300003</td>\n",
       "      <td>208.389999</td>\n",
       "      <td>211.750000</td>\n",
       "      <td>211.750000</td>\n",
       "      <td>49605700</td>\n",
       "    </tr>\n",
       "    <tr>\n",
       "      <th>2020-07-23</th>\n",
       "      <td>207.190002</td>\n",
       "      <td>210.919998</td>\n",
       "      <td>202.149994</td>\n",
       "      <td>202.539993</td>\n",
       "      <td>202.539993</td>\n",
       "      <td>67457000</td>\n",
       "    </tr>\n",
       "    <tr>\n",
       "      <th>2020-07-24</th>\n",
       "      <td>200.419998</td>\n",
       "      <td>202.860001</td>\n",
       "      <td>197.509995</td>\n",
       "      <td>201.300003</td>\n",
       "      <td>201.300003</td>\n",
       "      <td>39827000</td>\n",
       "    </tr>\n",
       "  </tbody>\n",
       "</table>\n",
       "<p>2658 rows × 6 columns</p>\n",
       "</div>"
      ],
      "text/plain": [
       "                  Open        High         Low       Close   Adj Close  \\\n",
       "Date                                                                     \n",
       "2010-01-04   30.620001   31.100000   30.590000   30.950001   24.226894   \n",
       "2010-01-05   30.850000   31.100000   30.639999   30.959999   24.234720   \n",
       "2010-01-06   30.879999   31.080000   30.520000   30.770000   24.085989   \n",
       "2010-01-07   30.629999   30.700001   30.190001   30.450001   23.835503   \n",
       "2010-01-08   30.280001   30.879999   30.240000   30.660000   23.999893   \n",
       "...                ...         ...         ...         ...         ...   \n",
       "2020-07-20  205.000000  212.300003  203.009995  211.600006  211.600006   \n",
       "2020-07-21  213.660004  213.940002  208.029999  208.750000  208.750000   \n",
       "2020-07-22  209.199997  212.300003  208.389999  211.750000  211.750000   \n",
       "2020-07-23  207.190002  210.919998  202.149994  202.539993  202.539993   \n",
       "2020-07-24  200.419998  202.860001  197.509995  201.300003  201.300003   \n",
       "\n",
       "              Volume  \n",
       "Date                  \n",
       "2010-01-04  38409100  \n",
       "2010-01-05  49749600  \n",
       "2010-01-06  58182400  \n",
       "2010-01-07  50559700  \n",
       "2010-01-08  51197400  \n",
       "...              ...  \n",
       "2020-07-20  36884800  \n",
       "2020-07-21  38105800  \n",
       "2020-07-22  49605700  \n",
       "2020-07-23  67457000  \n",
       "2020-07-24  39827000  \n",
       "\n",
       "[2658 rows x 6 columns]"
      ]
     },
     "execution_count": 103,
     "metadata": {},
     "output_type": "execute_result"
    }
   ],
   "source": [
    "df2 = pd.read_csv(\"MSFT.csv\", parse_dates=[\"Date\"], index_col=\"Date\")\n",
    "df2"
   ]
  },
  {
   "cell_type": "code",
   "execution_count": 108,
   "metadata": {
    "scrolled": false
   },
   "outputs": [
    {
     "data": {
      "text/html": [
       "<div>\n",
       "<style scoped>\n",
       "    .dataframe tbody tr th:only-of-type {\n",
       "        vertical-align: middle;\n",
       "    }\n",
       "\n",
       "    .dataframe tbody tr th {\n",
       "        vertical-align: top;\n",
       "    }\n",
       "\n",
       "    .dataframe thead th {\n",
       "        text-align: right;\n",
       "    }\n",
       "</style>\n",
       "<table border=\"1\" class=\"dataframe\">\n",
       "  <thead>\n",
       "    <tr style=\"text-align: right;\">\n",
       "      <th></th>\n",
       "      <th>Open</th>\n",
       "      <th>High</th>\n",
       "      <th>Low</th>\n",
       "      <th>Close</th>\n",
       "      <th>Adj Close</th>\n",
       "      <th>Volume</th>\n",
       "    </tr>\n",
       "    <tr>\n",
       "      <th>Date</th>\n",
       "      <th></th>\n",
       "      <th></th>\n",
       "      <th></th>\n",
       "      <th></th>\n",
       "      <th></th>\n",
       "      <th></th>\n",
       "    </tr>\n",
       "  </thead>\n",
       "  <tbody>\n",
       "    <tr>\n",
       "      <th>2017-07-25</th>\n",
       "      <td>73.800003</td>\n",
       "      <td>74.309998</td>\n",
       "      <td>73.5</td>\n",
       "      <td>74.190002</td>\n",
       "      <td>70.73613</td>\n",
       "      <td>22018700</td>\n",
       "    </tr>\n",
       "  </tbody>\n",
       "</table>\n",
       "</div>"
      ],
      "text/plain": [
       "                 Open       High   Low      Close  Adj Close    Volume\n",
       "Date                                                                  \n",
       "2017-07-25  73.800003  74.309998  73.5  74.190002   70.73613  22018700"
      ]
     },
     "execution_count": 108,
     "metadata": {},
     "output_type": "execute_result"
    }
   ],
   "source": [
    "\n",
    "g = df2[\"2017-07-25\":\"2017-07-25\"]\n",
    "g"
   ]
  },
  {
   "cell_type": "code",
   "execution_count": 100,
   "metadata": {
    "scrolled": true
   },
   "outputs": [
    {
     "data": {
      "text/plain": [
       "DatetimeIndex(['2020-07-28'], dtype='datetime64[ns]', freq='D')"
      ]
     },
     "execution_count": 100,
     "metadata": {},
     "output_type": "execute_result"
    }
   ],
   "source": [
    "rng = pd.date_range(start=\"7/28/2020\", end =\"7/28/2020\")\n",
    "rng"
   ]
  },
  {
   "cell_type": "code",
   "execution_count": null,
   "metadata": {},
   "outputs": [],
   "source": []
  }
 ],
 "metadata": {
  "kernelspec": {
   "display_name": "Python 3",
   "language": "python",
   "name": "python3"
  },
  "language_info": {
   "codemirror_mode": {
    "name": "ipython",
    "version": 3
   },
   "file_extension": ".py",
   "mimetype": "text/x-python",
   "name": "python",
   "nbconvert_exporter": "python",
   "pygments_lexer": "ipython3",
   "version": "3.7.1"
  }
 },
 "nbformat": 4,
 "nbformat_minor": 4
}
